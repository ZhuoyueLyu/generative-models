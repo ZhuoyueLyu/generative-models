{
 "metadata": {
  "language_info": {
   "codemirror_mode": {
    "name": "ipython",
    "version": 3
   },
   "file_extension": ".py",
   "mimetype": "text/x-python",
   "name": "python",
   "nbconvert_exporter": "python",
   "pygments_lexer": "ipython3",
   "version": "3.7.10"
  },
  "orig_nbformat": 2,
  "kernelspec": {
   "name": "python3710jvsc74a57bd00cc26f4bec691c8fb086398a8448d247c9fe1cb8d58402137a0ebb36a22e6fc5",
   "display_name": "Python 3.7.10 64-bit ('ML': conda)"
  },
  "metadata": {
   "interpreter": {
    "hash": "1cf6f6a7c2f7cd2e39d22c5d86fb2ca7ab9f6454d705be361dc5c93428931116"
   }
  }
 },
 "nbformat": 4,
 "nbformat_minor": 2,
 "cells": [
  {
   "cell_type": "code",
   "execution_count": 2,
   "metadata": {},
   "outputs": [],
   "source": [
    "import music21\n",
    "from music21 import midi, instrument, converter"
   ]
  },
  {
   "cell_type": "code",
   "execution_count": 3,
   "metadata": {},
   "outputs": [
    {
     "output_type": "stream",
     "name": "stdout",
     "text": [
      "<music21.midi.MidiFile 18 tracks>\n<music21.midi.MidiTrack 0 -- 6 events>\n"
     ]
    }
   ],
   "source": [
    "fname = \"clean_midi/3T/Why.mid\"\n",
    "mf = midi.MidiFile()\n",
    "mf.open(filename=fname, attrib=\"rb\")\n",
    "mf.read()\n",
    "print(mf)\n",
    "print(mf.tracks[0])"
   ]
  },
  {
   "cell_type": "code",
   "execution_count": 4,
   "metadata": {},
   "outputs": [
    {
     "output_type": "stream",
     "name": "stdout",
     "text": [
      "[<MidiEvent DeltaTime, t=0, track=0, channel=None>, <MidiEvent TIME_SIGNATURE, t=0, track=0, channel=None, data=b'\\x04\\x02\\x18\\x08'>, <MidiEvent DeltaTime, t=0, track=0, channel=None>, <MidiEvent SET_TEMPO, t=0, track=0, channel=None, data=b'\\x0c5\\x00'>, <MidiEvent DeltaTime, t=0, track=0, channel=None>, <MidiEvent END_OF_TRACK, t=0, track=0, channel=None, data=b''>]\nb'\\x00\\xffX\\x04\\x04\\x02\\x18\\x08\\x00\\xffQ\\x03\\x0c5\\x00\\x00\\xff/\\x00'\n"
     ]
    }
   ],
   "source": [
    "mt = mf.tracks[0]\n",
    "print(mt.events)\n",
    "print(mt.data)"
   ]
  },
  {
   "cell_type": "code",
   "execution_count": 5,
   "metadata": {},
   "outputs": [
    {
     "output_type": "stream",
     "name": "stdout",
     "text": [
      "<class 'music21.stream.Score'>\n"
     ]
    }
   ],
   "source": [
    "s2 = instrument.partitionByInstrument(converter.parse(fname))\n",
    "print(type(s2))"
   ]
  },
  {
   "cell_type": "code",
   "execution_count": 9,
   "metadata": {},
   "outputs": [
    {
     "output_type": "stream",
     "name": "stdout",
     "text": [
      "<music21.stream.Part Piano>\nPiano\n"
     ]
    }
   ],
   "source": [
    "for part in s2.parts:\n",
    "    if \"Piano\" == part.partName:\n",
    "        print(part)\n",
    "        print(part.partName)\n",
    "        notes = part.recurse()"
   ]
  },
  {
   "cell_type": "code",
   "execution_count": 35,
   "metadata": {},
   "outputs": [],
   "source": [
    "parsed_note = []\n",
    "for note in notes:\n",
    "    if isinstance(note, music21.note.Note):\n",
    "        note_example = note\n",
    "        parsed_note.append(str(note.pitch))\n",
    "    elif isinstance(note, music21.chord.Chord):\n",
    "        chord_example = note\n",
    "        parsed_note.append('.'.join(str(n) for n in note.normalOrder))"
   ]
  },
  {
   "cell_type": "code",
   "execution_count": 38,
   "metadata": {},
   "outputs": [
    {
     "output_type": "stream",
     "name": "stdout",
     "text": [
      "61.0\n66.0\n"
     ]
    }
   ],
   "source": [
    "print(note_example.pitches[0].ps)\n",
    "print(chord_example.notes[0].pitches[0].ps)"
   ]
  },
  {
   "cell_type": "code",
   "execution_count": 23,
   "metadata": {},
   "outputs": [
    {
     "output_type": "stream",
     "name": "stdout",
     "text": [
      "['6.8.10.1', '6.8.10.1', '6.8.11.2', '6.8.11.2', '8.10.1.3', '8.10.1.3', '8.10.1.4', '3.7.10', '8.10.11.3', '8.10.11.3', '7.9.11.2', '7.9.2', 'B3', '6.8.10.1', '8.10.1', 'F#3', 'F#3', '11.1', '11.3.6', '11.4', 'G#3', '6.8.10.1', '4.8', 'B3', '6.10.1', 'G#3', '3.6.10', 'B3', '2.6', 'C#4', 'G#3', 'G3', '1.6', '8.11', '8.11.3', 'E4', '6.8.10.1', '4.8', 'B3', '6.10.1', 'G#3', '3.6.10', 'B3', '2.6', '11.3.6', '1.5.8', 'E-4', '6.11', 'E-4', '11.3.6', '6.8.10.1', '6.8.10.1', '6.8.11.2', '6.8.11.2', '8.10.1.3', '8.10.1.3', '8.10.1.4', '3.7.10', '8.10.11.3', '8.10.11.3', '7.9.11.2', '7.9.2', 'B3', '6.8.10.1', '8.10.1', 'F#3', 'F#3', '11.1', '11.3.6', '6.8.10.1', '6.8.10.1', '6.8.11.2', '6.8.11.2', '8.10.1.3', '8.10.1.3', '8.10.1.4', '3.7.10', '8.10.11.3', '8.10.11.3', '7.9.11.2', '7.9.2', 'B3', '6.8.10.1', '8.10.1', 'F#3', 'F#3', '11.1', '11.3.6', '11.4', 'G#3', '6.8.10.1', '4.8', 'B3', '6.10.1', 'G#3', '3.6.10', 'B3', '2.6', '11.3.6', '1.5.8', 'E-4', '6.11', 'E-4', '11.3.6', '6.8.10.1', '6.8.10.1', '6.8.11.2', '6.8.11.2', '8.10.1.3', '8.10.1.3', '8.10.1.4', '3.7.10', '8.10.11.3', '8.10.11.3', '7.9.11.2', '7.9.2', 'B3', '6.8.10.1', '8.10.1', 'F#3', 'F#3', '11.1', '11.3.6', '11.3', 'F#3', '1.5.8', 'F4', '8.1', 'F#4', '8.11.2', 'F4', '8.11', '6.10.1', 'B-3', '1.6', '11.3', 'F#3', '1.5.8', '10.1.5', '10.1', 'F#4', '0.3.6', 'B3', '3.6', '11.3.6', '11.3.6', '6.8.10.1', '6.8.10.1', '6.8.11.2', '6.8.11.2', '8.10.1.3', '8.10.1.3', '8.10.1.4', '3.7.10', '8.10.11.3', '8.10.11.3', '7.9.11.2', '7.9.2', 'B3', '6.8.10.1', '8.10.1', 'F#3', 'F#3', '11.1', '11.3.6', '6.8.10', 'C#4', 'G#3', 'B-3', 'F#3', '6.10', 'C#4', '6.10.1']\n"
     ]
    }
   ],
   "source": [
    "print(parsed_note)"
   ]
  },
  {
   "cell_type": "code",
   "execution_count": 4,
   "metadata": {},
   "outputs": [
    {
     "output_type": "stream",
     "name": "stdout",
     "text": [
      "attr_-1.5.mid\nclean_midi\nMIDI.py\nattr_-1.5.wav\nMIDI_display.ipynb\n<class 'str'>\n"
     ]
    }
   ],
   "source": [
    "# Looping over files\n",
    "import os \n",
    "\n",
    "for i in os.listdir():\n",
    "    print(i)\n",
    "print(type(i))"
   ]
  },
  {
   "cell_type": "code",
   "execution_count": 14,
   "metadata": {
    "tags": []
   },
   "outputs": [
    {
     "output_type": "stream",
     "name": "stdout",
     "text": [
      "17257\n"
     ]
    }
   ],
   "source": [
    "path = \"./clean_midi/\"\n",
    "count = 0\n",
    "for i in os.listdir(path):\n",
    "    for j in os.listdir(path+i+\"/\"):\n",
    "        count += 1\n",
    "print(count)"
   ]
  },
  {
   "cell_type": "code",
   "execution_count": 38,
   "metadata": {},
   "outputs": [
    {
     "output_type": "stream",
     "name": "stdout",
     "text": [
      "[72.0, 72.0, 76.0, 72.0, 67.0, 76.0, 72.0, 67.0, 76.0, 72.0, 67.0, 76.0, 72.0, 67.0, 76.0, 72.0]\nNum of notes: 12483\n"
     ]
    }
   ],
   "source": [
    "import pickle \n",
    "f = open(\"midi_data.bin\", \"rb\")\n",
    "midi_dict = pickle.load(f)\n",
    "files = midi_dict['files']\n",
    "notes = midi_dict['notes'] \n",
    "\n",
    "print(notes[0])\n",
    "print(\"Num of notes: {}\".format(len(notes)) )"
   ]
  },
  {
   "cell_type": "code",
   "execution_count": 39,
   "metadata": {},
   "outputs": [
    {
     "output_type": "display_data",
     "data": {
      "text/plain": "<Figure size 432x288 with 1 Axes>",
      "image/png": "[encoded data removed]"
     },
     "metadata": {
      "image/png": {
       "width": 378,
       "height": 248
      },
      "needs_background": "light"
     }
    }
   ],
   "source": [
    "import matplotlib.pyplot as plt \n",
    "import numpy as np\n",
    "plt.scatter(np.arange(16), notes[7]); "
   ]
  },
  {
   "cell_type": "code",
   "execution_count": 40,
   "metadata": {},
   "outputs": [
    {
     "output_type": "stream",
     "name": "stdout",
     "text": [
      "(12483, 16)\n[72. 72. 76. 72. 67. 76. 72. 67. 76. 72. 67. 76. 72. 67. 76. 72.]\n"
     ]
    }
   ],
   "source": [
    "from MIDI_utils import get_midi_data\n",
    "data = get_midi_data()\n",
    "print(data.shape)\n",
    "print(data[0, :])"
   ]
  },
  {
   "cell_type": "code",
   "execution_count": null,
   "metadata": {},
   "outputs": [],
   "source": []
  }
 ]
}